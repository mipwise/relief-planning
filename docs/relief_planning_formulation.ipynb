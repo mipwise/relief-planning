{
 "cells": [
  {
   "cell_type": "markdown",
   "metadata": {},
   "source": [
    "# Relief Planning Formulation\n",
    "*Author(s): Mip Wise*   \n",
    "*Feb, 2023*.\n"
   ]
  },
  {
   "cell_type": "markdown",
   "metadata": {},
   "source": [
    "### Input Data Model\n",
    "We're assuming that quantity units are consistent across all parameters and decision variables. For example, if shipping cost is dollar/truckload, then availability and demand must also be in truckloads and shipment quantity recommendation will also be in truckloads."
   ]
  },
  {
   "cell_type": "markdown",
   "metadata": {},
   "source": [
    "#### Indices\n",
    "- $I$: Collection of suppliers.\n",
    "- $J$: Collection of relief camps.\n",
    "- $K$: Collection of products."
   ]
  },
  {
   "cell_type": "markdown",
   "metadata": {},
   "source": [
    "#### Parameters\n",
    "- $u_{ki}$: Availability of Product $k$ in Supplier $i$.\n",
    "- $d_{kj}$: Demand for Product $k$ in Relief Camp $j$.\n",
    "- $p_{kj}$: Priority factor to meet demand of Product $k$ in Relief Camp $j$."
   ]
  },
  {
   "cell_type": "markdown",
   "metadata": {},
   "source": [
    "### Decision Variables\n",
    "- $x_{kij}$: Quantity of Product $k$ to be shipped from Supplier $i$ to Relief Camp $j$.\n",
    "- $y_{kj}$: Shortfall of Product $k$ in Relief Camp $j$."
   ]
  },
  {
   "cell_type": "markdown",
   "metadata": {},
   "source": [
    "### Constraints\n",
    "* C1) Demand for Product $k$ in Relief Camp $j$:\n",
    "$$\\sum_i x_{kij} = d_{kj} - y_{kj}, \\quad \\forall k, j.$$\n",
    "* C2) Maximum availability of Product $k$ at Supplier $i$:\n",
    "$$\\sum_j x_{kij} \\leq u_{ki}, \\quad \\forall k, i.$$"
   ]
  },
  {
   "cell_type": "markdown",
   "metadata": {},
   "source": [
    "### Objective\n",
    "The goal is to meet as much demand as possible (minimize demand hortfalls) while giving preference to product-camp combinations with higher priority factors:\n",
    "$$\\min{\\sum_{kj}p_{kj} \\cdot y_{kj}}.$$"
   ]
  }
 ],
 "metadata": {
  "kernelspec": {
   "display_name": "Python 3 (ipykernel)",
   "language": "python",
   "name": "python3"
  },
  "language_info": {
   "codemirror_mode": {
    "name": "ipython",
    "version": 3
   },
   "file_extension": ".py",
   "mimetype": "text/x-python",
   "name": "python",
   "nbconvert_exporter": "python",
   "pygments_lexer": "ipython3",
   "version": "3.8.8"
  }
 },
 "nbformat": 4,
 "nbformat_minor": 4
}
